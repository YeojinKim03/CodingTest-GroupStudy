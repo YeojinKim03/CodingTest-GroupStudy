{
 "cells": [
  {
   "attachments": {},
   "cell_type": "markdown",
   "metadata": {},
   "source": [
    "# 그래프 탐색 알고리즘 : DFS / BFS\n",
    "    - 탐색이란 : 원하는 데이터를 찾는 과정\n",
    "    - 대표적인 그래프 탐색 알고리즘"
   ]
  },
  {
   "attachments": {},
   "cell_type": "markdown",
   "metadata": {},
   "source": [
    "# 자료구조 복습\n",
    "## 스택 : 먼저 들어온 데이터가 나중에 나가는 형식\n",
    "    - 입구와 출구가 동일한 형태\n",
    "    - 스택 동작 예시 : 삽입(), 삭제()"
   ]
  },
  {
   "cell_type": "code",
   "execution_count": null,
   "metadata": {},
   "outputs": [],
   "source": [
    "stack = []\n",
    "\n",
    "stack.append(5)\n",
    "stack.pop()\n",
    "\n",
    "print(stack[::-1]) # 최상단 원소부터 출력 (맨 뒤부터 출력)\n",
    "print(stack) # 최하단 원소부터 출력 (맨 앞부터 출력)"
   ]
  },
  {
   "attachments": {},
   "cell_type": "markdown",
   "metadata": {},
   "source": [
    "## 큐 : 먼저 들어 온 데이터가 먼저 나가는 형식\n",
    "    - 입구와 출구가 모두 뚫려있는 터널과 같은 형태\n",
    "    - 큐 동작 예시 : 삽입(), 삭제()"
   ]
  },
  {
   "cell_type": "code",
   "execution_count": null,
   "metadata": {},
   "outputs": [],
   "source": [
    "from collections import deque\n",
    "\n",
    "queue = deque() # 선언\n",
    "\n",
    "queue.append(5)\n",
    "queue.popleft()\n",
    "\n",
    "print(queue) # 들어온 순서대로 출력\n",
    "queue.reverse()\n",
    "print(queue) # 나중에 들어온 순서대로 출력"
   ]
  },
  {
   "attachments": {},
   "cell_type": "markdown",
   "metadata": {},
   "source": [
    "## 재귀함수 : 자기 자신을 다시 호출하는 함수\n",
    "    - 종료조건을 명시해야 함수가 무한히 호출되지 않음"
   ]
  },
  {
   "cell_type": "code",
   "execution_count": 1,
   "metadata": {},
   "outputs": [],
   "source": [
    "def recursive_function(i):\n",
    "    # 100번째 호출을 했을 때 종료되도록 종료조건 명시\n",
    "    if i == 100:\n",
    "        return print(i)\n",
    "    recursive_function(i+1)\n",
    "    "
   ]
  },
  {
   "attachments": {},
   "cell_type": "markdown",
   "metadata": {},
   "source": [
    "### 팩토리얼 구현 예제"
   ]
  },
  {
   "cell_type": "code",
   "execution_count": 2,
   "metadata": {},
   "outputs": [],
   "source": [
    "def fac(n):\n",
    "    if n<=1:\n",
    "        return 1\n",
    "    return n * fac(n-1)"
   ]
  },
  {
   "attachments": {},
   "cell_type": "markdown",
   "metadata": {},
   "source": [
    "### 최대공약수 계산 예제\n",
    "    - A가 큰수일때, A를 B로 나눈 나머지를 R\n",
    "    - A와 B의 최대공약수는 B와 R의 최대공약수와 같다"
   ]
  },
  {
   "cell_type": "code",
   "execution_count": 8,
   "metadata": {},
   "outputs": [],
   "source": [
    "def GCB(a, b):\n",
    "    mx=max(a,b)\n",
    "    mi=min(a,b)\n",
    "    r = mx%mi\n",
    "    if r==0:\n",
    "        return mi\n",
    "    return GCB(mi, r)\n",
    "        "
   ]
  },
  {
   "attachments": {},
   "cell_type": "markdown",
   "metadata": {},
   "source": [
    "## 재귀함수 사용의 유의사항\n",
    "    - 잘 활용하면 복잡한 알고리즘을 간결하게 작성 가능\n",
    "    - 모든 재귀함수는 반복문으로 구현 가능\n",
    "    - 함수를 연속적으로 호출하면 컴퓨터 메모리 내부의 스택 프레임에 쌓임\n",
    "    - 스택을 사용해야 할 때 구현상 재귀함수를 이용하는 경우도 많음"
   ]
  },
  {
   "attachments": {},
   "cell_type": "markdown",
   "metadata": {},
   "source": [
    "# DFS (Depth - First Search)\n",
    "    - 그래프에서 깊은 부분을 우선적으로 탐색하는 알고리즘\n",
    "    - 스택 자료구조 (혹은 재귀함수)를 이용\n",
    "\n",
    "### 동작 과정\n",
    "    - 탐색 시작 노드를 스택에 삽입하고 방문 처리를 함\n",
    "    - 스택의 최상단 노드에 방문하지 않은 인접노드가 하나라도 있으면 그 노드를 스택에 넣고 방문처리함\n",
    "    - 방문하지 않은 인접 노드가 없으면 스택에서 최상단 노드를 꺼냄\n",
    "    - 과정을 수행할 수 없을 때까지 반복"
   ]
  },
  {
   "attachments": {},
   "cell_type": "markdown",
   "metadata": {},
   "source": [
    "### DFS 소스코드 예제 "
   ]
  },
  {
   "cell_type": "code",
   "execution_count": 9,
   "metadata": {},
   "outputs": [
    {
     "name": "stdout",
     "output_type": "stream",
     "text": [
      "1 2 7 6 8 3 4 5 "
     ]
    }
   ],
   "source": [
    "# DFS 메서드 정의\n",
    "def dfs(graph, v, visited): #graph, v는 v번째 노드, visited은 노드 방문 표현하는 리스트\n",
    "    \n",
    "    # 현재 노드를 방문 처리\n",
    "    visited[v] = True\n",
    "    print(v, end=' ')\n",
    "    \n",
    "    # 현재 노드와 연결된 다른 노드를 재귀적으로 방문\n",
    "    for i in graph[v]: # 그래프에서 방문한 노드의 근처 노드들 번호 리스트 하나씩\n",
    "        if not visited[i]: # 근처 노드가 아직 방문 안했으면 (False이면) 방문\n",
    "            dfs(graph, i, visited)\n",
    "\n",
    "# 각 노드가 연결된 정보를 표현 (2차원 리스트)\n",
    "graph = [\n",
    "    [],\n",
    "    [2, 3, 8],\n",
    "    [1, 7],\n",
    "    [1, 4, 5],\n",
    "    [3, 5],\n",
    "    [3, 4],\n",
    "    [7],\n",
    "    [2, 6, 8],\n",
    "    [1, 7]\n",
    "]\n",
    "\n",
    "# 각 노드가 방문된 정보를 표현 (1차원 리스트)\n",
    "visited = [False] * 9\n",
    "\n",
    "# 정의된 DFS 함수 호출\n",
    "dfs(graph, 1, visited)"
   ]
  },
  {
   "attachments": {},
   "cell_type": "markdown",
   "metadata": {},
   "source": [
    "# BFS (Breadth - First Search)\n",
    "    - 너비 우선 탐색\n",
    "    - 그래프에서 가까운 노드부터 우선적으로 탐색하는 알고리즘\n",
    "    - 큐 사용\n",
    "    - 간선의 비용이 모두 동일한 상황에서 최단거리로 사용될 수도 있음\n",
    "\n",
    "### 동작 과정 (모두 큐에 넣는게 특징)\n",
    "    - 탐색 시작 노드를 큐에 삽입하고 방문처리\n",
    "    - 큐에서 노드를 꺼낸 뒤 해당 큐의 인접노드 중 안 간 노드들 모두 큐에 넣고 방문처리\n",
    "    - 반복\n",
    "\n"
   ]
  },
  {
   "cell_type": "code",
   "execution_count": 10,
   "metadata": {},
   "outputs": [
    {
     "name": "stdout",
     "output_type": "stream",
     "text": [
      "1 2 3 8 7 4 5 6 "
     ]
    }
   ],
   "source": [
    "from collections import deque\n",
    "\n",
    "# BFS 메서드 정의\n",
    "def bfs(graph, start, visited):\n",
    "    # 큐 구현을 위해 deque 라이브러리 사용\n",
    "    queue = deque([start]) # 시작노드를 큐에 넣고 초기화\n",
    "    \n",
    "    visited[start] = True # 현재 노드 방문 처리\n",
    "    \n",
    "    #큐가 빌 때까지 반복\n",
    "    while queue:\n",
    "        v = queue.popleft() #큐에서 하나의 원소를 뽑아 출력하기\n",
    "        print(v, end = ' ')\n",
    "        \n",
    "        #아직 방문하지 않은 인접한 노드들을 큐에 삽입\n",
    "        for i in graph[v]:\n",
    "            if not visited[i]: # 아직 안 방문했으면 (visited이 False이면) 수행\n",
    "                queue.append(i) # 인접 노드들 모두 큐에 넣으려고 반복할 것\n",
    "                visited[i] = True # 인접 노드들 방문\n",
    "    \n",
    "\n",
    "# 각 노드가 연결된 정보를 표현 (2차원 리스트)\n",
    "graph = [\n",
    "    [],\n",
    "    [2, 3, 8],\n",
    "    [1, 7],\n",
    "    [1, 4, 5],\n",
    "    [3, 5],\n",
    "    [3, 4],\n",
    "    [7],\n",
    "    [2, 6, 8],\n",
    "    [1, 7]\n",
    "]\n",
    "\n",
    "# 각 노드가 방문된 정보를 표현 (1차원 리스트)\n",
    "visited = [False] * 9\n",
    "\n",
    "# 정의된 DFS 함수 호출\n",
    "bfs(graph, 1, visited)"
   ]
  },
  {
   "attachments": {},
   "cell_type": "markdown",
   "metadata": {},
   "source": [
    "# 문제 : 음료수 얼려먹기\n",
    "    - 첫번째 줄에 세로길이 N과 가로길이 M이 주어짐\n",
    "    - 얼음 틀의 형태가 주어짐 (얼음을 얼릴 수 있게 구멍뚫린 부분 0, 안뚫린 부분 1)\n",
    "    - 한번에 만들 수 있는 아이스크림 개수는? (0으로 연결된 개수)\n",
    "\n",
    "## 문제 해결 아이디어 \n",
    "    - 얼음을 얼릴 수 있는 공간이 상하좌우로 연결되어 있다에서 힌트\n",
    "    - 그래프 형태로 모델링 가능\n",
    "    - DFS, BFS로 해결 가능\n",
    "\n",
    "## 알고리즘\n",
    "    - 특정 지점의 상하좌우를 살펴본 뒤 주변 지점중에서 값이 '0' 이면서 아직 방문하지 않은 지점이 있다면 방문\n",
    "    - 방문한 지점에서 다시 상하좌우를 살펴보면서 방문 진행하는 과정 반복\n",
    "    - 모든 노드에대해서 반복하며, 방문하지 않은 지점의 수를 카운트"
   ]
  },
  {
   "attachments": {},
   "cell_type": "markdown",
   "metadata": {},
   "source": [
    "## 답안 예시"
   ]
  },
  {
   "cell_type": "code",
   "execution_count": 11,
   "metadata": {},
   "outputs": [],
   "source": [
    "# DFS로 특정 노드를 방문하고, 연결된 모든 노드들도 방문\n",
    "def dfs(x, y): # 노드 좌표 받음\n",
    "    # 주어진 범위를 벗어나는 경우 즉시 종료\n",
    "    if x<=1 or x>=n or y<=-1 or y>=m:\n",
    "        return False\n",
    "    \n",
    "    # 현재 노드를 아직 방문하지 않았다면\n",
    "    if graph[x][y] == 0:\n",
    "        graph[x][y] = 1 # 방문처리\n",
    "        \n",
    "        # 상하좌우 위치들 재귀적으로 호출\n",
    "        dfs(x-1, y)\n",
    "        dfs(x, y-1)\n",
    "        dfs(x+1, y)\n",
    "        dfs(x, y+1)\n",
    "        return True\n",
    "    \n",
    "    return False\n",
    "\n",
    "# n, m을 공백을 기준으로 구분하여 입력 받기\n",
    "n, m = map(int, input().split())\n",
    "\n",
    "# 2차원 리스트의 맵 정보 입력 받기\n",
    "graph = []\n",
    "for i in range(n):\n",
    "    graph.append(list(map(int, input())))\n",
    "\n",
    "#모든 노드에 대해서 음료수 채우기 (방문처리 하기)\n",
    "result = 0\n",
    "for i in range(n): # 모든 노드에서 돌게 함\n",
    "    for j in range(m):\n",
    "        # 현재 위치에서 dfs 수행\n",
    "        if dfs(i,j) == True: # i,j 번 노드랑 연결된 노드들 확인했을 때 연결된 세트이면\n",
    "            result+=1 \n",
    "            \n",
    "print(result) # 정답 출력"
   ]
  }
 ],
 "metadata": {
  "kernelspec": {
   "display_name": "Python 3",
   "language": "python",
   "name": "python3"
  },
  "language_info": {
   "codemirror_mode": {
    "name": "ipython",
    "version": 3
   },
   "file_extension": ".py",
   "mimetype": "text/x-python",
   "name": "python",
   "nbconvert_exporter": "python",
   "pygments_lexer": "ipython3",
   "version": "3.7.3 (default, Oct 31 2022, 14:04:00) \n[GCC 8.3.0]"
  },
  "orig_nbformat": 4,
  "vscode": {
   "interpreter": {
    "hash": "31f2aee4e71d21fbe5cf8b01ff0e069b9275f58929596ceb00d14d90e3e16cd6"
   }
  }
 },
 "nbformat": 4,
 "nbformat_minor": 2
}
