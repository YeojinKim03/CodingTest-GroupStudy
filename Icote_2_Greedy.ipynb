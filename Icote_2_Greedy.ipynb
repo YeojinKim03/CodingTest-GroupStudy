{
 "cells": [
  {
   "attachments": {},
   "cell_type": "markdown",
   "metadata": {},
   "source": [
    "# 그리디 알고리즘\n",
    "- 단순히 가장 좋아보이는 것을 반복적으로 선택해도 최적의 해를 구할 수 있는지 추론"
   ]
  },
  {
   "attachments": {},
   "cell_type": "markdown",
   "metadata": {},
   "source": [
    "---\n",
    "# <문제 1>  \n",
    "## : 거스름 돈 "
   ]
  },
  {
   "attachments": {},
   "cell_type": "markdown",
   "metadata": {},
   "source": [
    "### 문제 아이디어\n",
    "- 거슬러주어야 할 돈이 N원일 때 500원, 100원, 50원, 10원짜리 동전을 최소로 사용, 개수는?"
   ]
  },
  {
   "attachments": {},
   "cell_type": "markdown",
   "metadata": {},
   "source": [
    "### 나의 풀이"
   ]
  },
  {
   "cell_type": "code",
   "execution_count": 4,
   "metadata": {},
   "outputs": [
    {
     "data": {
      "text/plain": [
       "6"
      ]
     },
     "execution_count": 4,
     "metadata": {},
     "output_type": "execute_result"
    }
   ],
   "source": [
    "def solution(N):\n",
    "    w500 = N//500\n",
    "    w100 = (N- (w500 * 500))//100\n",
    "    w50 = (N - (w500 * 500) - (w100 * 100)) // 50\n",
    "    w10 = (N - (w500 * 500) - (w100 * 100) - (w50 * 50))  // 10\n",
    "    answer = w500 + w100 + w50 + w10\n",
    "    \n",
    "    return answer\n",
    "\n",
    "solution(1260)"
   ]
  },
  {
   "attachments": {},
   "cell_type": "markdown",
   "metadata": {},
   "source": [
    "### 정당성 분석\n",
    "- 가지고 있는 동전 중에서 큰 단위가 항상 작은 단위의 배수이므로, 작은 단위의 동전들을 종합해 다른 해가 나올 수 없음"
   ]
  },
  {
   "attachments": {},
   "cell_type": "markdown",
   "metadata": {},
   "source": [
    "### 답안 예시"
   ]
  },
  {
   "cell_type": "code",
   "execution_count": 3,
   "metadata": {},
   "outputs": [
    {
     "name": "stdout",
     "output_type": "stream",
     "text": [
      "6\n"
     ]
    }
   ],
   "source": [
    "n = int(input())\n",
    "count = 0\n",
    "\n",
    "#큰 단위의 화폐부터 차례대로 확인하기\n",
    "array = [500, 100, 50, 10]\n",
    "\n",
    "for coin in array:\n",
    "    count += n // coin #해당 화폐로 거슬러 줄 수 있는 동전의 개수 세기\n",
    "    n %= coin\n",
    "\n",
    "print(count)"
   ]
  },
  {
   "attachments": {},
   "cell_type": "markdown",
   "metadata": {},
   "source": [
    "### 시간복잡도 분석\n",
    "- 화폐의 종류가 K일 때, 시간복잡도는 O(K) \n",
    "- 동전의 총 종류에만 영향받음 (coin에 따라 for문이 반복)"
   ]
  },
  {
   "attachments": {},
   "cell_type": "markdown",
   "metadata": {},
   "source": [
    "---\n",
    "# <문제 2> \n",
    "## : 1이 될 때까지 "
   ]
  },
  {
   "attachments": {},
   "cell_type": "markdown",
   "metadata": {},
   "source": [
    "### 문제 설명\n",
    "- N이 1이 될 때까지 두가지 과정만 반복 수행\n",
    "    - N에서 1을 뺌\n",
    "    - N을 K로 나눔\n",
    "<br>\n",
    "<br>\n",
    "- N과 K가 주어질 때 과정을 수행해야하는 최소 횟수를 구하는 프로그램"
   ]
  },
  {
   "attachments": {},
   "cell_type": "markdown",
   "metadata": {},
   "source": [
    "### 나의 풀이"
   ]
  },
  {
   "cell_type": "code",
   "execution_count": 6,
   "metadata": {},
   "outputs": [
    {
     "data": {
      "text/plain": [
       "2"
      ]
     },
     "execution_count": 6,
     "metadata": {},
     "output_type": "execute_result"
    }
   ],
   "source": [
    "def solution(N, K):\n",
    "    n=0\n",
    "    while (N!=1):\n",
    "        if N%K==0:\n",
    "            N/=K\n",
    "            n+=1\n",
    "        else: \n",
    "            N-=1\n",
    "            n+=1\n",
    "    return n \n",
    "\n",
    "solution(25,5)"
   ]
  },
  {
   "attachments": {},
   "cell_type": "markdown",
   "metadata": {},
   "source": [
    "### 문제 해결 아이디어\n",
    "- 주어진 N에 대해서 최대한 많이 나누기\n",
    "N의 값을 줄일 때 2이상의 수로 나누는 작업이 1을 빼는 작업보다 수를 훨씬 많이 줄일 수 있음"
   ]
  },
  {
   "attachments": {},
   "cell_type": "markdown",
   "metadata": {},
   "source": [
    "### 정당성 분석\n",
    "- 가능하면 최대한 많이 나누는 작업이 최적의 해를 보장하는지?\n",
    "- 아무리 큰 수여도 K로 계속 나눈다면 기하급수적으로 빨리 줄이기 가능\n",
    "- N은 항상 1에 도달 (최적의 해 성립)"
   ]
  },
  {
   "attachments": {},
   "cell_type": "markdown",
   "metadata": {},
   "source": [
    "### 답안 예시"
   ]
  },
  {
   "cell_type": "code",
   "execution_count": 10,
   "metadata": {},
   "outputs": [
    {
     "name": "stdout",
     "output_type": "stream",
     "text": [
      "2\n"
     ]
    }
   ],
   "source": [
    "# N, K를 공백을 기준으로 구분하여 입력받기\n",
    "n, k = map(int, input().split())\n",
    "\n",
    "result = 0\n",
    "\n",
    "while True:\n",
    "    # N이 K로 나누어 떨어지는 수가 될때까지 빼기\n",
    "    target = (n//k) * k\n",
    "    result += (n-target)\n",
    "    n = target\n",
    "    \n",
    "    #N이 K보다 작을 때 반복문 탈출\n",
    "    if n<k:\n",
    "        break\n",
    "    # K로 나누기\n",
    "    result += 1\n",
    "    n //= k\n",
    "\n",
    "#마지막으로 남은 수에 대하여 1씩 빼기\n",
    "result += (n-1)\n",
    "print(result)"
   ]
  },
  {
   "attachments": {},
   "cell_type": "markdown",
   "metadata": {},
   "source": [
    "---\n",
    "# <문제 3> \n",
    "## : 곱하기 혹은 더하기"
   ]
  },
  {
   "attachments": {},
   "cell_type": "markdown",
   "metadata": {},
   "source": [
    "### 문제 설명\n",
    "- 각 자리가 숫자로 이루어진 문자열 S를 주었을 때 숫자 사이에 'x'이나 '+'연산자를 넣음\n",
    "- 만들어질 수 있는 가장 큰 수를 만드는 프로그램 작성\n",
    "\n",
    "### 나의 풀이"
   ]
  },
  {
   "cell_type": "code",
   "execution_count": 12,
   "metadata": {},
   "outputs": [],
   "source": [
    "def solution(s):\n",
    "    ls = list(map(int, list(s)))\n",
    "    pre = ls[0]\n",
    "    for num in range(1, len(ls)):\n",
    "        if (pre+ls[num])> (pre * ls[num]):\n",
    "            pre += ls[num]\n",
    "            print(pre)\n",
    "        else:\n",
    "            pre *= ls[num]\n",
    "            print(pre)\n",
    "            \n",
    "    return pre\n",
    "        "
   ]
  },
  {
   "attachments": {},
   "cell_type": "markdown",
   "metadata": {},
   "source": [
    "### 문제 해결 아이디어\n",
    "두 수에 대해서 연산을 수행할 때, 두 수 하나라도 1이하인 경우에는 더하며, 두 수가 모두 2 이상인 경우에는 곱하면 정답"
   ]
  },
  {
   "attachments": {},
   "cell_type": "markdown",
   "metadata": {},
   "source": [
    "### 답안 예시"
   ]
  },
  {
   "cell_type": "code",
   "execution_count": 2,
   "metadata": {},
   "outputs": [
    {
     "name": "stdout",
     "output_type": "stream",
     "text": [
      "9\n"
     ]
    }
   ],
   "source": [
    "data = input()\n",
    "\n",
    "# 첫번째 문자를 숫자로 변경하여 대입\n",
    "result = int(data[0])\n",
    "\n",
    "for i in range(1, len(data)):\n",
    "    # 두 수 중에서 하나라도 '0' 혹은 '1'일 경우, 곱하기보다는 더하기 수행\n",
    "    num = int(data[i])\n",
    "    if num <= 1 or result <= 1:\n",
    "        result += num\n",
    "    else:\n",
    "        result *= num\n",
    "print(result)"
   ]
  },
  {
   "attachments": {},
   "cell_type": "markdown",
   "metadata": {},
   "source": [
    "---\n",
    "# <문제 4>\n",
    "## : 모험가 길드\n",
    "### 문제 설명\n",
    "- N명의 모험가를 대상으로 공포도를 측정함\n",
    "- 공포도가 X인 모험가는 반드시 X명 이상으로 구성된 모험가 그룹에 참여해야 여행을 떠날 수 있음\n",
    "- 몇명의 모험가는 마을에 남아있어도 됨\n",
    "- 최대 몇개의 모험가 그룹을 만들 수 있는지?"
   ]
  },
  {
   "cell_type": "code",
   "execution_count": null,
   "metadata": {},
   "outputs": [],
   "source": []
  },
  {
   "attachments": {},
   "cell_type": "markdown",
   "metadata": {},
   "source": [
    "### 나의 풀이"
   ]
  },
  {
   "cell_type": "code",
   "execution_count": 8,
   "metadata": {},
   "outputs": [
    {
     "name": "stdout",
     "output_type": "stream",
     "text": [
      "2\n"
     ]
    }
   ],
   "source": [
    "N = input()\n",
    "ls = list(map(int,input().split()))\n",
    "ls.sort(reverse=True)\n",
    "mx = ls[0]\n",
    "p = 0\n",
    "count=1\n",
    "while p<=len(ls)-1:\n",
    "    num = ls[mx]\n",
    "    p = mx+num\n",
    "    count+=1\n",
    "print(count)\n",
    "    "
   ]
  },
  {
   "cell_type": "code",
   "execution_count": null,
   "metadata": {},
   "outputs": [],
   "source": []
  },
  {
   "attachments": {},
   "cell_type": "markdown",
   "metadata": {},
   "source": [
    "### 문제 해결 아이디어\n",
    "- 오름차순 정렬 이후에 공포도가 낮은 모험가부터 하나씩 확인\n",
    "- 현재 그룹에 포함된 모험가의 수가 현재 확인된 공포도보다 크거나 같다면 그룹으로 설정\n",
    "\n",
    "### 답안 예시"
   ]
  },
  {
   "cell_type": "code",
   "execution_count": 10,
   "metadata": {},
   "outputs": [
    {
     "name": "stdout",
     "output_type": "stream",
     "text": [
      "5\n"
     ]
    }
   ],
   "source": [
    "n = int(input())\n",
    "data = list(map(int, input().split()))\n",
    "data.sort()\n",
    "\n",
    "result = 0 # 총 그룹의 수\n",
    "count = 0 # 현재 그룹에 포함된 모험가의 수\n",
    "\n",
    "for i in data : #공포도를 낮은 것부터 하나씩 확인하며\n",
    "    count += 1 #현재 그룹에 해당 모험가를 포함시키기\n",
    "    if count <= i: # 현재 그룹에 포함된 모험가의 수가 현재의 공포도 이상이면\n",
    "        result += 1 # 총 그룹의 수 증가시키기\n",
    "        count = 0 # 현재 그룹에 포함된 모험가의 수 초기화\n",
    "\n",
    "print(result) # 총 그룹의 수 출력"
   ]
  },
  {
   "attachments": {},
   "cell_type": "markdown",
   "metadata": {},
   "source": [
    "---\n",
    "# 구현\n",
    "- 머릿속에 있는 알고리즘을 소스코드로 바꾸는 과정\n",
    "- 풀이를 떠올리는 것은 쉽지만 소스코드로 옮기기 어려운 문제\n",
    "\n",
    "### 구현 유형의 예시\n",
    "- 알고리즘은 간단한데 코드가 지나칠만큼 길어지는 문제\n",
    "- 실수 연산을 다루고, 특정 소수점자리까지 출력해야 하는 문제\n",
    "- 문자열을 특정한 기준에 따라서 끊어 처리해야 하는 문제\n",
    "- 적절한 라이브러리를 찾아서 사용해야 하는 문제 \n",
    "\n",
    "### 2차원공간 = 행렬"
   ]
  },
  {
   "cell_type": "code",
   "execution_count": 12,
   "metadata": {},
   "outputs": [
    {
     "name": "stdout",
     "output_type": "stream",
     "text": [
      "( 0 , 0 )( 0 , 1 )( 0 , 2 )( 0 , 3 )( 0 , 4 )\n",
      "( 1 , 0 )( 1 , 1 )( 1 , 2 )( 1 , 3 )( 1 , 4 )\n",
      "( 2 , 0 )( 2 , 1 )( 2 , 2 )( 2 , 3 )( 2 , 4 )\n",
      "( 3 , 0 )( 3 , 1 )( 3 , 2 )( 3 , 3 )( 3 , 4 )\n",
      "( 4 , 0 )( 4 , 1 )( 4 , 2 )( 4 , 3 )( 4 , 4 )\n"
     ]
    }
   ],
   "source": [
    "for i in range(5):\n",
    "    for j in range(5):\n",
    "        print( '(', i, ',', j, ')', end='')\n",
    "    print()"
   ]
  },
  {
   "attachments": {},
   "cell_type": "markdown",
   "metadata": {},
   "source": [
    "### 방향벡터 활용 - 시뮬레이션 및 완전 탐색 문제"
   ]
  },
  {
   "cell_type": "code",
   "execution_count": 13,
   "metadata": {},
   "outputs": [
    {
     "name": "stdout",
     "output_type": "stream",
     "text": [
      "2 3\n",
      "1 2\n",
      "2 1\n",
      "3 2\n"
     ]
    }
   ],
   "source": [
    "# 동 북 서 남\n",
    "dx = [0, -1, 0, 1] #행\n",
    "dy = [1, 0, -1, 0] #열\n",
    "\n",
    "# 현재 위치\n",
    "x, y = 2, 2\n",
    "\n",
    "for i in range(4):\n",
    "    # 다음 위치\n",
    "    nx = x + dx[i]\n",
    "    ny = y + dy[i]\n",
    "    print(nx, ny)"
   ]
  },
  {
   "cell_type": "code",
   "execution_count": null,
   "metadata": {},
   "outputs": [],
   "source": []
  }
 ],
 "metadata": {
  "kernelspec": {
   "display_name": "Python 3",
   "language": "python",
   "name": "python3"
  },
  "language_info": {
   "codemirror_mode": {
    "name": "ipython",
    "version": 3
   },
   "file_extension": ".py",
   "mimetype": "text/x-python",
   "name": "python",
   "nbconvert_exporter": "python",
   "pygments_lexer": "ipython3",
   "version": "3.7.3 (default, Oct 31 2022, 14:04:00) \n[GCC 8.3.0]"
  },
  "orig_nbformat": 4,
  "vscode": {
   "interpreter": {
    "hash": "31f2aee4e71d21fbe5cf8b01ff0e069b9275f58929596ceb00d14d90e3e16cd6"
   }
  }
 },
 "nbformat": 4,
 "nbformat_minor": 2
}
